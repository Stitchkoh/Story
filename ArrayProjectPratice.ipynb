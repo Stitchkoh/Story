{
  "nbformat": 4,
  "nbformat_minor": 0,
  "metadata": {
    "colab": {
      "name": "Untitled4.ipynb",
      "version": "0.3.2",
      "provenance": [],
      "include_colab_link": true
    },
    "kernelspec": {
      "name": "python3",
      "display_name": "Python 3"
    }
  },
  "cells": [
    {
      "cell_type": "markdown",
      "metadata": {
        "id": "view-in-github",
        "colab_type": "text"
      },
      "source": [
        "<a href=\"https://colab.research.google.com/github/Stitchkoh/Story/blob/master/ArrayProjectPratice.ipynb\" target=\"_parent\"><img src=\"https://colab.research.google.com/assets/colab-badge.svg\" alt=\"Open In Colab\"/></a>"
      ]
    },
    {
      "cell_type": "code",
      "metadata": {
        "id": "29pyRJdQb-T3",
        "colab_type": "code",
        "colab": {
          "base_uri": "https://localhost:8080/",
          "height": 34
        },
        "outputId": "b6a525bf-5bc9-4eb7-a6db-a666793e5e0c"
      },
      "source": [
        "import numpy as np\n",
        "\n",
        "array_a = np.array([[1,2,3,4],[5,6,7,8],[9,10,11,12],[13,14,15,16]])\n",
        "\n",
        "array_b= array_a.reshape(1,16)\n",
        "\n",
        "print(array_b)\n",
        "\n"
      ],
      "execution_count": 4,
      "outputs": [
        {
          "output_type": "stream",
          "text": [
            "[[ 1  2  3  4  5  6  7  8  9 10 11 12 13 14 15 16]]\n"
          ],
          "name": "stdout"
        }
      ]
    },
    {
      "cell_type": "code",
      "metadata": {
        "id": "_BDwJUNqnlxU",
        "colab_type": "code",
        "colab": {
          "base_uri": "https://localhost:8080/",
          "height": 119
        },
        "outputId": "1f92fce1-13b7-41b5-eb25-6b1d998d613c"
      },
      "source": [
        "import numpy as np\n",
        "\n",
        "array_a = np.array([[1,2,3,4],[5,6,7,8],[9,10,11,12],[13,14,15,16]])\n",
        "\n",
        "array_b= array_a.reshape(2,8)\n",
        "\n",
        "print(array_b)\n",
        "\n",
        "array_c = array_a.T\n",
        "\n",
        "print(array_c.T.T.T.T.T.T)\n",
        "\n",
        "\n",
        "\n",
        "\n",
        "\n"
      ],
      "execution_count": 11,
      "outputs": [
        {
          "output_type": "stream",
          "text": [
            "[[ 1  2  3  4  5  6  7  8]\n",
            " [ 9 10 11 12 13 14 15 16]]\n",
            "[[ 1  5  9 13]\n",
            " [ 2  6 10 14]\n",
            " [ 3  7 11 15]\n",
            " [ 4  8 12 16]]\n"
          ],
          "name": "stdout"
        }
      ]
    },
    {
      "cell_type": "code",
      "metadata": {
        "id": "YSjTonG_o0g_",
        "colab_type": "code",
        "colab": {
          "base_uri": "https://localhost:8080/",
          "height": 68
        },
        "outputId": "b70734bc-4a07-4b19-a7d8-b8561872b69b"
      },
      "source": [
        "print(array_c[0,1], array_c[2])\n",
        "\n",
        "print(array_c[-1,3],array_c[1,1])\n",
        "print(array_c[1,-2])\n",
        "\n",
        "\n"
      ],
      "execution_count": 16,
      "outputs": [
        {
          "output_type": "stream",
          "text": [
            "5 [ 3  7 11 15]\n",
            "16 6\n",
            "10\n"
          ],
          "name": "stdout"
        }
      ]
    },
    {
      "cell_type": "code",
      "metadata": {
        "id": "NIDTs9ZkqF4n",
        "colab_type": "code",
        "colab": {
          "base_uri": "https://localhost:8080/",
          "height": 442
        },
        "outputId": "70b46579-f9d5-4d1c-fea8-ef15459a43fc"
      },
      "source": [
        "import numpy as np\n",
        "\n",
        "array_a = np.array([[1,2,3],[4,5,6]],dtype=float)\n",
        "print(array_a.size)\n",
        "print(array_a.shape)\n",
        "print(array_a)\n",
        "array_b = np.zeros((3,4))\n",
        "print(array_b)\n",
        "array_c=np.ones((4,4))\n",
        "print(array_c)\n",
        "array_d = np.full((4,4),100)\n",
        "print(array_d)\n",
        "array_e = np.random.random((10,4))\n",
        "print(array_e)\n",
        "\n",
        "\n",
        "\n",
        "\n",
        "\n",
        "\n"
      ],
      "execution_count": 28,
      "outputs": [
        {
          "output_type": "stream",
          "text": [
            "6\n",
            "(2, 3)\n",
            "[[1. 2. 3.]\n",
            " [4. 5. 6.]]\n",
            "[[0. 0. 0. 0.]\n",
            " [0. 0. 0. 0.]\n",
            " [0. 0. 0. 0.]]\n",
            "[[1. 1. 1. 1.]\n",
            " [1. 1. 1. 1.]\n",
            " [1. 1. 1. 1.]\n",
            " [1. 1. 1. 1.]]\n",
            "[[100 100 100 100]\n",
            " [100 100 100 100]\n",
            " [100 100 100 100]\n",
            " [100 100 100 100]]\n",
            "[[0.26603699 0.42037258 0.28415996 0.21268924]\n",
            " [0.61012321 0.70956817 0.82386419 0.6805547 ]\n",
            " [0.68601164 0.97193616 0.30072551 0.12248962]\n",
            " [0.89411256 0.93036777 0.78925845 0.35132785]\n",
            " [0.97411808 0.1810701  0.30747573 0.97891649]\n",
            " [0.61556731 0.3466649  0.19463627 0.6702787 ]\n",
            " [0.7636785  0.31680861 0.18658036 0.8065061 ]\n",
            " [0.70885209 0.05309241 0.83092841 0.10169826]\n",
            " [0.0141828  0.56778612 0.24588297 0.21632866]\n",
            " [0.64891195 0.38404093 0.66711008 0.3768369 ]]\n"
          ],
          "name": "stdout"
        }
      ]
    },
    {
      "cell_type": "code",
      "metadata": {
        "id": "6Zf75NxKvANJ",
        "colab_type": "code",
        "colab": {
          "base_uri": "https://localhost:8080/",
          "height": 34
        },
        "outputId": "25b77aea-ea53-4c07-deb7-4366418462dc"
      },
      "source": [
        "import numpy as np\n",
        "\n",
        "\n",
        "array_a = np.array([32766, 32767, 32769])\n",
        "print(array_a)\n"
      ],
      "execution_count": 29,
      "outputs": [
        {
          "output_type": "stream",
          "text": [
            "[32766 32767 32769]\n"
          ],
          "name": "stdout"
        }
      ]
    },
    {
      "cell_type": "code",
      "metadata": {
        "id": "-2miQO_274in",
        "colab_type": "code",
        "colab": {}
      },
      "source": [
        ""
      ],
      "execution_count": 0,
      "outputs": []
    }
  ]
}